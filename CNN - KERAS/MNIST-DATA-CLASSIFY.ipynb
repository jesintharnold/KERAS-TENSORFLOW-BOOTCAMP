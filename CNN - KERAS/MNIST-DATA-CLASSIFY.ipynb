{
 "cells": [
  {
   "cell_type": "markdown",
   "metadata": {},
   "source": [
    "***MNIST - DATA CLASSIFICATION USING KERAS***"
   ]
  },
  {
   "cell_type": "code",
   "execution_count": 108,
   "metadata": {},
   "outputs": [],
   "source": [
    "from tensorflow.keras.datasets import mnist\n",
    "import pandas as pd\n",
    "import matplotlib.pyplot as plt\n",
    "import seaborn as sns\n",
    "import numpy as np\n",
    "%matplotlib inline\n"
   ]
  },
  {
   "cell_type": "code",
   "execution_count": 80,
   "metadata": {},
   "outputs": [],
   "source": [
    "(x_train,y_train),(x_test,y_test)=mnist.load_data()"
   ]
  },
  {
   "cell_type": "code",
   "execution_count": 81,
   "metadata": {},
   "outputs": [
    {
     "name": "stdout",
     "output_type": "stream",
     "text": [
      "(60000, 28, 28)\n",
      "(60000,)\n",
      "(10000, 28, 28)\n",
      "(10000,)\n"
     ]
    }
   ],
   "source": [
    "print(x_train.shape)\n",
    "print(y_train.shape)\n",
    "print(x_test.shape)\n",
    "print(y_test.shape)"
   ]
  },
  {
   "cell_type": "code",
   "execution_count": 82,
   "metadata": {},
   "outputs": [
    {
     "name": "stdout",
     "output_type": "stream",
     "text": [
      "5\n"
     ]
    },
    {
     "data": {
      "image/png": "[encoded data removed]",
      "text/plain": [
       "<Figure size 432x288 with 1 Axes>"
      ]
     },
     "metadata": {
      "needs_background": "light"
     },
     "output_type": "display_data"
    }
   ],
   "source": [
    "plt.imshow(x_train[0])\n",
    "print(y_train[0])"
   ]
  },
  {
   "cell_type": "code",
   "execution_count": 83,
   "metadata": {},
   "outputs": [],
   "source": [
    "#Implement MinMaxScaler\n",
    "from keras.utils import to_categorical\n",
    "x_train=x_train/255;\n",
    "x_test=x_test/255;\n",
    "y_train=to_categorical(y_train,num_classes=10)\n",
    "y_test=to_categorical(y_test,num_classes=10)"
   ]
  },
  {
   "cell_type": "code",
   "execution_count": 84,
   "metadata": {},
   "outputs": [
    {
     "name": "stdout",
     "output_type": "stream",
     "text": [
      "(60000, 28, 28)\n",
      "(60000, 10)\n",
      "(10000, 28, 28)\n",
      "(10000, 10)\n"
     ]
    }
   ],
   "source": [
    "print(x_train.shape)\n",
    "print(y_train.shape)\n",
    "print(x_test.shape)\n",
    "print(y_test.shape)"
   ]
  },
  {
   "cell_type": "code",
   "execution_count": 85,
   "metadata": {},
   "outputs": [
    {
     "name": "stdout",
     "output_type": "stream",
     "text": [
      "[0. 0. 0. 0. 0. 1. 0. 0. 0. 0.]\n"
     ]
    },
    {
     "data": {
      "image/png": "[encoded data removed]",
      "text/plain": [
       "<Figure size 432x288 with 1 Axes>"
      ]
     },
     "metadata": {
      "needs_background": "light"
     },
     "output_type": "display_data"
    }
   ],
   "source": [
    "plt.imshow(x_train[0])\n",
    "print(y_train[0])"
   ]
  },
  {
   "cell_type": "code",
   "execution_count": 86,
   "metadata": {},
   "outputs": [],
   "source": [
    "from tensorflow.keras.models import Sequential\n",
    "from tensorflow.keras.layers import Conv2D,MaxPool2D,Dense,Flatten"
   ]
  },
  {
   "cell_type": "code",
   "execution_count": 87,
   "metadata": {},
   "outputs": [],
   "source": [
    "model=Sequential([\n",
    "    Conv2D(\n",
    "        filters=32,\n",
    "        kernel_size=(4,4),\n",
    "        input_shape=(28,28,1),\n",
    "        activation=\"relu\"\n",
    "    ),\n",
    "    MaxPool2D(pool_size=(2,2)),\n",
    "    Flatten(),\n",
    "    Dense(256,activation=\"relu\"),\n",
    "    Dense(10,activation=\"softmax\")\n",
    "])\n",
    "\n",
    "model.compile(loss=\"categorical_crossentropy\",optimizer=\"adam\",metrics=[\"accuracy\"])"
   ]
  },
  {
   "cell_type": "code",
   "execution_count": 88,
   "metadata": {},
   "outputs": [],
   "source": [
    "from tensorflow.keras.callbacks import EarlyStopping\n",
    "early_stop=EarlyStopping(monitor=\"val_loss\",patience=20)"
   ]
  },
  {
   "cell_type": "code",
   "execution_count": 89,
   "metadata": {},
   "outputs": [
    {
     "name": "stdout",
     "output_type": "stream",
     "text": [
      "Epoch 1/100\n",
      "1875/1875 [==============================] - 23s 12ms/step - loss: 0.1252 - accuracy: 0.9621 - val_loss: 0.0530 - val_accuracy: 0.9846\n",
      "Epoch 2/100\n",
      "1875/1875 [==============================] - 22s 12ms/step - loss: 0.0422 - accuracy: 0.9868 - val_loss: 0.0493 - val_accuracy: 0.9827\n",
      "Epoch 3/100\n",
      "1875/1875 [==============================] - 21s 11ms/step - loss: 0.0258 - accuracy: 0.9918 - val_loss: 0.0403 - val_accuracy: 0.9863\n",
      "Epoch 4/100\n",
      "1875/1875 [==============================] - 22s 12ms/step - loss: 0.0178 - accuracy: 0.9940 - val_loss: 0.0463 - val_accuracy: 0.9864\n",
      "Epoch 5/100\n",
      "1875/1875 [==============================] - 21s 11ms/step - loss: 0.0124 - accuracy: 0.9957 - val_loss: 0.0401 - val_accuracy: 0.9882\n",
      "Epoch 6/100\n",
      "1875/1875 [==============================] - 22s 11ms/step - loss: 0.0101 - accuracy: 0.9966 - val_loss: 0.0394 - val_accuracy: 0.9890\n",
      "Epoch 7/100\n",
      "1875/1875 [==============================] - 21s 11ms/step - loss: 0.0065 - accuracy: 0.9978 - val_loss: 0.0450 - val_accuracy: 0.9877\n",
      "Epoch 8/100\n",
      "1875/1875 [==============================] - 21s 11ms/step - loss: 0.0064 - accuracy: 0.9977 - val_loss: 0.0523 - val_accuracy: 0.9872\n",
      "Epoch 9/100\n",
      "1875/1875 [==============================] - 21s 11ms/step - loss: 0.0049 - accuracy: 0.9982 - val_loss: 0.0469 - val_accuracy: 0.9893\n",
      "Epoch 10/100\n",
      "1875/1875 [==============================] - 21s 11ms/step - loss: 0.0043 - accuracy: 0.9985 - val_loss: 0.0464 - val_accuracy: 0.9893\n",
      "Epoch 11/100\n",
      "1875/1875 [==============================] - 21s 11ms/step - loss: 0.0042 - accuracy: 0.9987 - val_loss: 0.0507 - val_accuracy: 0.9883\n",
      "Epoch 12/100\n",
      "1875/1875 [==============================] - 21s 11ms/step - loss: 0.0032 - accuracy: 0.9990 - val_loss: 0.0653 - val_accuracy: 0.9874\n",
      "Epoch 13/100\n",
      "1875/1875 [==============================] - 22s 12ms/step - loss: 0.0035 - accuracy: 0.9988 - val_loss: 0.0561 - val_accuracy: 0.9896\n",
      "Epoch 14/100\n",
      "1875/1875 [==============================] - 21s 11ms/step - loss: 0.0034 - accuracy: 0.9990 - val_loss: 0.0656 - val_accuracy: 0.9876\n",
      "Epoch 15/100\n",
      "1875/1875 [==============================] - 21s 11ms/step - loss: 0.0038 - accuracy: 0.9987 - val_loss: 0.0639 - val_accuracy: 0.9878\n",
      "Epoch 16/100\n",
      "1875/1875 [==============================] - 22s 12ms/step - loss: 0.0020 - accuracy: 0.9995 - val_loss: 0.0648 - val_accuracy: 0.9875\n",
      "Epoch 17/100\n",
      "1875/1875 [==============================] - 21s 11ms/step - loss: 0.0022 - accuracy: 0.9993 - val_loss: 0.0759 - val_accuracy: 0.9874\n",
      "Epoch 18/100\n",
      "1875/1875 [==============================] - 21s 11ms/step - loss: 0.0029 - accuracy: 0.9992 - val_loss: 0.0804 - val_accuracy: 0.9866\n",
      "Epoch 19/100\n",
      "1875/1875 [==============================] - 21s 11ms/step - loss: 0.0024 - accuracy: 0.9991 - val_loss: 0.0872 - val_accuracy: 0.9872\n",
      "Epoch 20/100\n",
      "1875/1875 [==============================] - 21s 11ms/step - loss: 0.0027 - accuracy: 0.9992 - val_loss: 0.0688 - val_accuracy: 0.9900\n",
      "Epoch 21/100\n",
      "1875/1875 [==============================] - 21s 11ms/step - loss: 0.0025 - accuracy: 0.9992 - val_loss: 0.0682 - val_accuracy: 0.9894\n",
      "Epoch 22/100\n",
      "1875/1875 [==============================] - 22s 12ms/step - loss: 0.0015 - accuracy: 0.9995 - val_loss: 0.0734 - val_accuracy: 0.9891\n",
      "Epoch 23/100\n",
      "1875/1875 [==============================] - 23s 12ms/step - loss: 0.0026 - accuracy: 0.9992 - val_loss: 0.0856 - val_accuracy: 0.9884\n",
      "Epoch 24/100\n",
      "1875/1875 [==============================] - 26s 14ms/step - loss: 0.0010 - accuracy: 0.9996 - val_loss: 0.0839 - val_accuracy: 0.9889\n",
      "Epoch 25/100\n",
      "1875/1875 [==============================] - 24s 13ms/step - loss: 0.0031 - accuracy: 0.9991 - val_loss: 0.0873 - val_accuracy: 0.9880\n",
      "Epoch 26/100\n",
      "1875/1875 [==============================] - 23s 12ms/step - loss: 0.0029 - accuracy: 0.9990 - val_loss: 0.0770 - val_accuracy: 0.9896\n"
     ]
    },
    {
     "data": {
      "text/plain": [
       "<keras.callbacks.History at 0x202a9501760>"
      ]
     },
     "execution_count": 89,
     "metadata": {},
     "output_type": "execute_result"
    }
   ],
   "source": [
    "model.fit(x_train,y_train,validation_data=(x_test,y_test),callbacks=[early_stop],epochs=100)"
   ]
  },
  {
   "cell_type": "code",
   "execution_count": 90,
   "metadata": {},
   "outputs": [
    {
     "data": {
      "text/html": [
       "<div>\n",
       "<style scoped>\n",
       "    .dataframe tbody tr th:only-of-type {\n",
       "        vertical-align: middle;\n",
       "    }\n",
       "\n",
       "    .dataframe tbody tr th {\n",
       "        vertical-align: top;\n",
       "    }\n",
       "\n",
       "    .dataframe thead th {\n",
       "        text-align: right;\n",
       "    }\n",
       "</style>\n",
       "<table border=\"1\" class=\"dataframe\">\n",
       "  <thead>\n",
       "    <tr style=\"text-align: right;\">\n",
       "      <th></th>\n",
       "      <th>loss</th>\n",
       "      <th>accuracy</th>\n",
       "      <th>val_loss</th>\n",
       "      <th>val_accuracy</th>\n",
       "    </tr>\n",
       "  </thead>\n",
       "  <tbody>\n",
       "    <tr>\n",
       "      <th>0</th>\n",
       "      <td>0.125183</td>\n",
       "      <td>0.962067</td>\n",
       "      <td>0.052962</td>\n",
       "      <td>0.9846</td>\n",
       "    </tr>\n",
       "    <tr>\n",
       "      <th>1</th>\n",
       "      <td>0.042151</td>\n",
       "      <td>0.986767</td>\n",
       "      <td>0.049322</td>\n",
       "      <td>0.9827</td>\n",
       "    </tr>\n",
       "    <tr>\n",
       "      <th>2</th>\n",
       "      <td>0.025834</td>\n",
       "      <td>0.991783</td>\n",
       "      <td>0.040282</td>\n",
       "      <td>0.9863</td>\n",
       "    </tr>\n",
       "    <tr>\n",
       "      <th>3</th>\n",
       "      <td>0.017845</td>\n",
       "      <td>0.994033</td>\n",
       "      <td>0.046284</td>\n",
       "      <td>0.9864</td>\n",
       "    </tr>\n",
       "    <tr>\n",
       "      <th>4</th>\n",
       "      <td>0.012445</td>\n",
       "      <td>0.995717</td>\n",
       "      <td>0.040125</td>\n",
       "      <td>0.9882</td>\n",
       "    </tr>\n",
       "    <tr>\n",
       "      <th>5</th>\n",
       "      <td>0.010068</td>\n",
       "      <td>0.996650</td>\n",
       "      <td>0.039356</td>\n",
       "      <td>0.9890</td>\n",
       "    </tr>\n",
       "    <tr>\n",
       "      <th>6</th>\n",
       "      <td>0.006514</td>\n",
       "      <td>0.997800</td>\n",
       "      <td>0.044972</td>\n",
       "      <td>0.9877</td>\n",
       "    </tr>\n",
       "    <tr>\n",
       "      <th>7</th>\n",
       "      <td>0.006436</td>\n",
       "      <td>0.997750</td>\n",
       "      <td>0.052254</td>\n",
       "      <td>0.9872</td>\n",
       "    </tr>\n",
       "    <tr>\n",
       "      <th>8</th>\n",
       "      <td>0.004908</td>\n",
       "      <td>0.998233</td>\n",
       "      <td>0.046901</td>\n",
       "      <td>0.9893</td>\n",
       "    </tr>\n",
       "    <tr>\n",
       "      <th>9</th>\n",
       "      <td>0.004279</td>\n",
       "      <td>0.998550</td>\n",
       "      <td>0.046444</td>\n",
       "      <td>0.9893</td>\n",
       "    </tr>\n",
       "    <tr>\n",
       "      <th>10</th>\n",
       "      <td>0.004164</td>\n",
       "      <td>0.998750</td>\n",
       "      <td>0.050703</td>\n",
       "      <td>0.9883</td>\n",
       "    </tr>\n",
       "    <tr>\n",
       "      <th>11</th>\n",
       "      <td>0.003209</td>\n",
       "      <td>0.999000</td>\n",
       "      <td>0.065293</td>\n",
       "      <td>0.9874</td>\n",
       "    </tr>\n",
       "    <tr>\n",
       "      <th>12</th>\n",
       "      <td>0.003482</td>\n",
       "      <td>0.998800</td>\n",
       "      <td>0.056141</td>\n",
       "      <td>0.9896</td>\n",
       "    </tr>\n",
       "    <tr>\n",
       "      <th>13</th>\n",
       "      <td>0.003440</td>\n",
       "      <td>0.998967</td>\n",
       "      <td>0.065574</td>\n",
       "      <td>0.9876</td>\n",
       "    </tr>\n",
       "    <tr>\n",
       "      <th>14</th>\n",
       "      <td>0.003822</td>\n",
       "      <td>0.998650</td>\n",
       "      <td>0.063881</td>\n",
       "      <td>0.9878</td>\n",
       "    </tr>\n",
       "    <tr>\n",
       "      <th>15</th>\n",
       "      <td>0.002021</td>\n",
       "      <td>0.999483</td>\n",
       "      <td>0.064845</td>\n",
       "      <td>0.9875</td>\n",
       "    </tr>\n",
       "    <tr>\n",
       "      <th>16</th>\n",
       "      <td>0.002172</td>\n",
       "      <td>0.999333</td>\n",
       "      <td>0.075875</td>\n",
       "      <td>0.9874</td>\n",
       "    </tr>\n",
       "    <tr>\n",
       "      <th>17</th>\n",
       "      <td>0.002941</td>\n",
       "      <td>0.999217</td>\n",
       "      <td>0.080416</td>\n",
       "      <td>0.9866</td>\n",
       "    </tr>\n",
       "    <tr>\n",
       "      <th>18</th>\n",
       "      <td>0.002390</td>\n",
       "      <td>0.999150</td>\n",
       "      <td>0.087223</td>\n",
       "      <td>0.9872</td>\n",
       "    </tr>\n",
       "    <tr>\n",
       "      <th>19</th>\n",
       "      <td>0.002656</td>\n",
       "      <td>0.999200</td>\n",
       "      <td>0.068783</td>\n",
       "      <td>0.9900</td>\n",
       "    </tr>\n",
       "    <tr>\n",
       "      <th>20</th>\n",
       "      <td>0.002455</td>\n",
       "      <td>0.999200</td>\n",
       "      <td>0.068151</td>\n",
       "      <td>0.9894</td>\n",
       "    </tr>\n",
       "    <tr>\n",
       "      <th>21</th>\n",
       "      <td>0.001478</td>\n",
       "      <td>0.999533</td>\n",
       "      <td>0.073440</td>\n",
       "      <td>0.9891</td>\n",
       "    </tr>\n",
       "    <tr>\n",
       "      <th>22</th>\n",
       "      <td>0.002610</td>\n",
       "      <td>0.999250</td>\n",
       "      <td>0.085625</td>\n",
       "      <td>0.9884</td>\n",
       "    </tr>\n",
       "    <tr>\n",
       "      <th>23</th>\n",
       "      <td>0.001003</td>\n",
       "      <td>0.999600</td>\n",
       "      <td>0.083932</td>\n",
       "      <td>0.9889</td>\n",
       "    </tr>\n",
       "    <tr>\n",
       "      <th>24</th>\n",
       "      <td>0.003102</td>\n",
       "      <td>0.999117</td>\n",
       "      <td>0.087299</td>\n",
       "      <td>0.9880</td>\n",
       "    </tr>\n",
       "    <tr>\n",
       "      <th>25</th>\n",
       "      <td>0.002917</td>\n",
       "      <td>0.999033</td>\n",
       "      <td>0.076986</td>\n",
       "      <td>0.9896</td>\n",
       "    </tr>\n",
       "  </tbody>\n",
       "</table>\n",
       "</div>"
      ],
      "text/plain": [
       "        loss  accuracy  val_loss  val_accuracy\n",
       "0   0.125183  0.962067  0.052962        0.9846\n",
       "1   0.042151  0.986767  0.049322        0.9827\n",
       "2   0.025834  0.991783  0.040282        0.9863\n",
       "3   0.017845  0.994033  0.046284        0.9864\n",
       "4   0.012445  0.995717  0.040125        0.9882\n",
       "5   0.010068  0.996650  0.039356        0.9890\n",
       "6   0.006514  0.997800  0.044972        0.9877\n",
       "7   0.006436  0.997750  0.052254        0.9872\n",
       "8   0.004908  0.998233  0.046901        0.9893\n",
       "9   0.004279  0.998550  0.046444        0.9893\n",
       "10  0.004164  0.998750  0.050703        0.9883\n",
       "11  0.003209  0.999000  0.065293        0.9874\n",
       "12  0.003482  0.998800  0.056141        0.9896\n",
       "13  0.003440  0.998967  0.065574        0.9876\n",
       "14  0.003822  0.998650  0.063881        0.9878\n",
       "15  0.002021  0.999483  0.064845        0.9875\n",
       "16  0.002172  0.999333  0.075875        0.9874\n",
       "17  0.002941  0.999217  0.080416        0.9866\n",
       "18  0.002390  0.999150  0.087223        0.9872\n",
       "19  0.002656  0.999200  0.068783        0.9900\n",
       "20  0.002455  0.999200  0.068151        0.9894\n",
       "21  0.001478  0.999533  0.073440        0.9891\n",
       "22  0.002610  0.999250  0.085625        0.9884\n",
       "23  0.001003  0.999600  0.083932        0.9889\n",
       "24  0.003102  0.999117  0.087299        0.9880\n",
       "25  0.002917  0.999033  0.076986        0.9896"
      ]
     },
     "execution_count": 90,
     "metadata": {},
     "output_type": "execute_result"
    }
   ],
   "source": [
    "#Creating a plot for loss\n",
    "__los__=pd.DataFrame(model.history.history)\n",
    "__los__"
   ]
  },
  {
   "cell_type": "code",
   "execution_count": 91,
   "metadata": {},
   "outputs": [
    {
     "data": {
      "text/plain": [
       "['loss', 'accuracy']"
      ]
     },
     "execution_count": 91,
     "metadata": {},
     "output_type": "execute_result"
    }
   ],
   "source": [
    "model.metrics_names"
   ]
  },
  {
   "cell_type": "code",
   "execution_count": 92,
   "metadata": {},
   "outputs": [
    {
     "data": {
      "text/plain": [
       "<AxesSubplot:>"
      ]
     },
     "execution_count": 92,
     "metadata": {},
     "output_type": "execute_result"
    },
    {
     "data": {
      "image/png": "[encoded data removed]",
      "text/plain": [
       "<Figure size 432x288 with 1 Axes>"
      ]
     },
     "metadata": {
      "needs_background": "light"
     },
     "output_type": "display_data"
    }
   ],
   "source": [
    "__los__[[\"loss\",\"val_loss\"]].plot()"
   ]
  },
  {
   "cell_type": "code",
   "execution_count": 93,
   "metadata": {},
   "outputs": [
    {
     "data": {
      "text/plain": [
       "<AxesSubplot:>"
      ]
     },
     "execution_count": 93,
     "metadata": {},
     "output_type": "execute_result"
    },
    {
     "data": {
      "image/png": "[encoded data removed]",
      "text/plain": [
       "<Figure size 432x288 with 1 Axes>"
      ]
     },
     "metadata": {
      "needs_background": "light"
     },
     "output_type": "display_data"
    }
   ],
   "source": [
    "__los__[[\"accuracy\",\"val_accuracy\"]].plot()"
   ]
  },
  {
   "cell_type": "code",
   "execution_count": 94,
   "metadata": {},
   "outputs": [
    {
     "name": "stdout",
     "output_type": "stream",
     "text": [
      "313/313 [==============================] - 1s 4ms/step - loss: 0.0770 - accuracy: 0.9896\n"
     ]
    },
    {
     "data": {
      "text/plain": [
       "[0.0769856721162796, 0.9896000027656555]"
      ]
     },
     "execution_count": 94,
     "metadata": {},
     "output_type": "execute_result"
    }
   ],
   "source": [
    "model.evaluate(x_test,y_test)"
   ]
  },
  {
   "cell_type": "code",
   "execution_count": 117,
   "metadata": {},
   "outputs": [
    {
     "name": "stdout",
     "output_type": "stream",
     "text": [
      "313/313 [==============================] - 2s 6ms/step\n"
     ]
    },
    {
     "data": {
      "text/plain": [
       "array([[5.8047650e-21, 3.5796396e-20, 2.0931243e-17, ..., 9.9999994e-01,\n",
       "        4.6527266e-21, 1.2580137e-15],\n",
       "       [1.3262824e-21, 5.6709957e-19, 9.9999994e-01, ..., 1.3682484e-27,\n",
       "        1.4017244e-31, 4.2616107e-35],\n",
       "       [1.6821917e-19, 9.9999994e-01, 2.4286317e-17, ..., 3.2800758e-14,\n",
       "        9.9953415e-17, 3.8909670e-15],\n",
       "       ...,\n",
       "       [9.5567924e-29, 2.6047961e-17, 5.5021353e-28, ..., 1.1494351e-15,\n",
       "        3.7083968e-16, 7.3700419e-18],\n",
       "       [1.7843712e-17, 9.2118664e-24, 1.2403760e-25, ..., 1.7343005e-18,\n",
       "        1.4158301e-10, 4.2583020e-17],\n",
       "       [9.1768368e-22, 3.4056144e-23, 1.9427335e-24, ..., 1.9031925e-28,\n",
       "        1.5060830e-21, 6.3979423e-29]], dtype=float32)"
      ]
     },
     "execution_count": 117,
     "metadata": {},
     "output_type": "execute_result"
    }
   ],
   "source": [
    "__pred__=model.predict(x_test)\n",
    "__pred__"
   ]
  },
  {
   "cell_type": "code",
   "execution_count": 153,
   "metadata": {},
   "outputs": [],
   "source": [
    "# for i in __pred__:\n",
    "___pred___=pd.DataFrame(__pred__).apply(lambda x:to_categorical(np.argmax(x),num_classes=10),axis=1)   "
   ]
  },
  {
   "cell_type": "code",
   "execution_count": 154,
   "metadata": {},
   "outputs": [
    {
     "data": {
      "text/plain": [
       "0       [0.0, 0.0, 0.0, 0.0, 0.0, 0.0, 0.0, 1.0, 0.0, ...\n",
       "1       [0.0, 0.0, 1.0, 0.0, 0.0, 0.0, 0.0, 0.0, 0.0, ...\n",
       "2       [0.0, 1.0, 0.0, 0.0, 0.0, 0.0, 0.0, 0.0, 0.0, ...\n",
       "3       [1.0, 0.0, 0.0, 0.0, 0.0, 0.0, 0.0, 0.0, 0.0, ...\n",
       "4       [0.0, 0.0, 0.0, 0.0, 1.0, 0.0, 0.0, 0.0, 0.0, ...\n",
       "                              ...                        \n",
       "9995    [0.0, 0.0, 1.0, 0.0, 0.0, 0.0, 0.0, 0.0, 0.0, ...\n",
       "9996    [0.0, 0.0, 0.0, 1.0, 0.0, 0.0, 0.0, 0.0, 0.0, ...\n",
       "9997    [0.0, 0.0, 0.0, 0.0, 1.0, 0.0, 0.0, 0.0, 0.0, ...\n",
       "9998    [0.0, 0.0, 0.0, 0.0, 0.0, 1.0, 0.0, 0.0, 0.0, ...\n",
       "9999    [0.0, 0.0, 0.0, 0.0, 0.0, 0.0, 1.0, 0.0, 0.0, ...\n",
       "Length: 10000, dtype: object"
      ]
     },
     "execution_count": 154,
     "metadata": {},
     "output_type": "execute_result"
    }
   ],
   "source": [
    "___pred___"
   ]
  },
  {
   "cell_type": "code",
   "execution_count": 155,
   "metadata": {},
   "outputs": [],
   "source": [
    "from sklearn.metrics import classification_report,confusion_matrix"
   ]
  },
  {
   "cell_type": "code",
   "execution_count": 159,
   "metadata": {},
   "outputs": [
    {
     "data": {
      "text/plain": [
       "10"
      ]
     },
     "execution_count": 159,
     "metadata": {},
     "output_type": "execute_result"
    }
   ],
   "source": []
  },
  {
   "cell_type": "code",
   "execution_count": 161,
   "metadata": {},
   "outputs": [
    {
     "name": "stdout",
     "output_type": "stream",
     "text": [
      "              precision    recall  f1-score   support\n",
      "\n",
      "           0       0.99      1.00      0.99       980\n",
      "           1       0.99      0.99      0.99      1135\n",
      "           2       0.99      0.99      0.99      1032\n",
      "           3       0.99      0.99      0.99      1010\n",
      "           4       0.99      0.98      0.99       982\n",
      "           5       0.99      0.99      0.99       892\n",
      "           6       0.99      0.99      0.99       958\n",
      "           7       0.99      0.99      0.99      1028\n",
      "           8       0.98      0.99      0.99       974\n",
      "           9       0.98      0.99      0.99      1009\n",
      "\n",
      "    accuracy                           0.99     10000\n",
      "   macro avg       0.99      0.99      0.99     10000\n",
      "weighted avg       0.99      0.99      0.99     10000\n",
      "\n"
     ]
    }
   ],
   "source": [
    "print(classification_report(np.argmax(y_test,axis=1),np.argmax(__pred__,axis=1)))"
   ]
  },
  {
   "cell_type": "code",
   "execution_count": 165,
   "metadata": {},
   "outputs": [
    {
     "data": {
      "text/plain": [
       "<AxesSubplot:>"
      ]
     },
     "execution_count": 165,
     "metadata": {},
     "output_type": "execute_result"
    },
    {
     "data": {
      "image/png": "[encoded data removed]",
      "text/plain": [
       "<Figure size 432x288 with 2 Axes>"
      ]
     },
     "metadata": {
      "needs_background": "light"
     },
     "output_type": "display_data"
    }
   ],
   "source": [
    "__confusion__=confusion_matrix(np.argmax(y_test,axis=1),np.argmax(__pred__,axis=1))\n",
    "sns.heatmap(__confusion__,annot=True,fmt=\"d\") \n",
    "#"
   ]
  },
  {
   "cell_type": "code",
   "execution_count": 166,
   "metadata": {},
   "outputs": [
    {
     "name": "stderr",
     "output_type": "stream",
     "text": [
      "WARNING:absl:Found untraced functions such as _jit_compiled_convolution_op while saving (showing 1 of 1). These functions will not be directly callable after loading.\n"
     ]
    },
    {
     "name": "stdout",
     "output_type": "stream",
     "text": [
      "INFO:tensorflow:Assets written to: ./MINST-MODEL-SAVED\\assets\n"
     ]
    },
    {
     "name": "stderr",
     "output_type": "stream",
     "text": [
      "INFO:tensorflow:Assets written to: ./MINST-MODEL-SAVED\\assets\n"
     ]
    }
   ],
   "source": [
    "model.save('./MINST-MODEL-SAVED')"
   ]
  }
 ],
 "metadata": {
  "kernelspec": {
   "display_name": "Python 3.9.12 ('base')",
   "language": "python",
   "name": "python3"
  },
  "language_info": {
   "codemirror_mode": {
    "name": "ipython",
    "version": 3
   },
   "file_extension": ".py",
   "mimetype": "text/x-python",
   "name": "python",
   "nbconvert_exporter": "python",
   "pygments_lexer": "ipython3",
   "version": "3.9.12"
  },
  "orig_nbformat": 4,
  "vscode": {
   "interpreter": {
    "hash": "972634ce379db47b59801b90472a9331a580bc1b16dfd632b751099b21f1c24c"
   }
  }
 },
 "nbformat": 4,
 "nbformat_minor": 2
}
