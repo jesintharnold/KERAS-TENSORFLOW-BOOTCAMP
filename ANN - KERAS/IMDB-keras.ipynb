{
 "cells": [
  {
   "cell_type": "code",
   "execution_count": 49,
   "metadata": {},
   "outputs": [],
   "source": [
    "import pandas as pd\n",
    "import seaborn as sns\n",
    "import matplotlib.pyplot as plt"
   ]
  },
  {
   "cell_type": "code",
   "execution_count": 50,
   "metadata": {},
   "outputs": [
    {
     "name": "stdout",
     "output_type": "stream",
     "text": [
      "X-train : (25000,)\n",
      "Y-train : (25000,)\n",
      "X-test : (25000,)\n",
      "Y-test : (25000, 2)\n"
     ]
    }
   ],
   "source": [
    "from tensorflow.keras.datasets import imdb\n",
    "(x_train, y_train), (x_test, y_test_) = imdb.load_data(path=\"imdb.npz\",\n",
    "                                                     num_words=None,\n",
    "                                                     skip_top=0,\n",
    "                                                     maxlen=None,\n",
    "                                                     seed=113,\n",
    "                                                     start_char=1,\n",
    "                                                     oov_char=2,\n",
    "                                                     index_from=3);\n",
    "print(\"X-train :\",x_train.shape);\n",
    "print(\"Y-train :\",y_train.shape);\n",
    "print(\"X-test :\",x_test.shape);\n",
    "print(\"Y-test :\",y_test.shape);"
   ]
  },
  {
   "cell_type": "code",
   "execution_count": 51,
   "metadata": {},
   "outputs": [
    {
     "name": "stdout",
     "output_type": "stream",
     "text": [
      "[0. 1. 0. 0. 1. 1. 1. 1. 1. 1. 0. 0. 1. 1. 1. 1. 1. 1. 1. 1. 0. 1. 1. 0.\n",
      " 0. 1. 1. 0. 1. 0. 1. 0. 1. 1. 0. 1. 1. 0. 1. 1. 0. 0. 0. 1. 0. 0. 1. 0.\n",
      " 1. 0. 1. 1. 1. 0. 0. 0. 1. 0. 0. 0. 0. 0. 1. 0. 0. 1. 1. 0. 0. 0. 0. 1.\n",
      " 0. 0. 0. 0. 1. 1. 0. 0. 0. 0. 1. 0. 0. 0. 0. 1. 1. 0. 0. 0. 1. 0. 0. 0.\n",
      " 0. 0. 1. 0. 1. 0. 0. 1. 1. 0. 1. 1. 0. 0. 0. 0. 1. 1. 0. 0. 0. 1. 0. 0.\n",
      " 0. 0. 0. 0. 1. 0. 0. 0. 0. 0. 1. 0. 0. 0. 1. 1. 0. 0. 0. 0. 0. 1. 0. 0.\n",
      " 1. 0. 0. 1. 0. 0. 1. 0. 0. 0. 0. 0. 0. 0. 0. 0. 0. 0. 0. 0. 0. 0. 0. 1.\n",
      " 0. 0. 0. 0. 1. 1. 0. 0. 0. 0. 1. 0. 0. 0. 0. 0. 0. 0. 0. 0. 0. 0. 0. 0.\n",
      " 1. 0. 1. 0. 0. 0. 0. 0. 0. 0. 0. 0. 0. 0. 0. 0. 0. 0. 0. 0. 0. 0. 0. 1.\n",
      " 0. 0. 0. 0. 0. 0. 0. 0. 1. 0. 1. 0. 0. 0. 0. 0. 0. 0. 0. 0. 0. 0. 0. 0.\n",
      " 0. 0. 0. 0. 0. 0. 0. 0. 0. 0. 0. 0. 0. 0. 0. 0. 1. 0. 0. 0. 0. 0. 0. 0.\n",
      " 0. 0. 0. 0. 0. 0. 0. 0. 0. 0. 0. 0. 0. 0. 0. 0. 0. 0. 0. 1. 1. 0. 0. 0.\n",
      " 0. 0. 0. 0. 0. 0. 0. 0. 0. 1. 0. 0. 0. 0. 0. 0. 0. 0. 0. 0. 0. 0. 0. 0.\n",
      " 0. 0. 0. 0. 1. 1. 0. 0. 0. 0. 0. 0. 0. 0. 0. 0. 0. 0. 0. 0. 0. 0. 0. 0.\n",
      " 1. 0. 0. 0. 0. 0. 0. 0. 0. 0. 0. 0. 0. 0. 0. 0. 0. 0. 0. 0. 0. 0. 0. 0.\n",
      " 0. 0. 0. 0. 0. 0. 0. 0. 0. 0. 0. 0. 0. 0. 0. 0. 0. 0. 0. 0. 0. 1. 0. 0.\n",
      " 0. 1. 1. 0. 0. 0. 0. 0. 0. 0. 0. 0. 0. 0. 0. 0. 1. 0. 0. 0. 0. 0. 0. 1.\n",
      " 0. 0. 0. 0. 0. 0. 0. 0. 0. 0. 0. 0. 0. 0. 0. 0. 0. 0. 0. 0. 0. 0. 0. 0.\n",
      " 0. 0. 0. 0. 0. 0. 0. 0. 0. 0. 0. 0. 0. 0. 0. 1. 0. 0. 0. 0. 0. 0. 0. 0.\n",
      " 0. 0. 1. 0. 0. 0. 0. 0. 0. 0. 0. 0. 0. 1. 0. 0. 0. 0. 0. 0. 1. 0. 0. 0.\n",
      " 1. 0. 0. 0. 0. 0. 0. 0. 0. 0. 0. 0. 0. 0. 0. 0. 0. 0. 0. 0. 0. 0. 0. 0.\n",
      " 0. 0. 0. 0. 0. 0. 0. 0. 0. 0. 0. 1. 0. 0. 0. 0. 0. 0. 0. 0. 0. 0. 0. 0.\n",
      " 0. 0. 1. 0. 0. 0. 0. 0. 0. 0. 0. 0. 0. 0. 0. 0. 0. 0. 1. 0. 0. 0. 0. 0.\n",
      " 0. 0. 0. 0. 0. 0. 0. 0. 0. 0. 0. 0. 0. 0. 0. 0. 0. 0. 0. 0. 0. 0. 0. 0.\n",
      " 0. 0. 0. 0. 0. 0. 0. 0. 0. 0. 0. 0. 0. 0. 0. 0. 0. 0. 0. 0. 0. 0. 0. 0.\n",
      " 0. 0. 0. 0. 0. 0. 0. 0. 0. 0. 0. 0. 0. 0. 0. 0. 0. 0. 0. 1. 0. 0. 0. 0.\n",
      " 0. 0. 1. 0. 0. 0. 0. 0. 0. 0. 0. 0. 0. 0. 0. 0. 0. 0. 0. 0. 0. 0. 0. 0.\n",
      " 0. 0. 0. 0. 0. 0. 0. 0. 0. 0. 0. 0. 0. 0. 0. 0. 0. 0. 0. 0. 0. 0. 1. 0.\n",
      " 0. 0. 0. 0. 0. 0. 0. 0. 0. 0. 0. 0. 0. 0. 0. 0. 0. 0. 0. 0. 0. 0. 0. 0.\n",
      " 0. 0. 0. 0. 0. 0. 0. 0. 0. 0. 0. 0. 0. 0. 0. 0. 0. 0. 0. 0. 0. 0. 0. 0.\n",
      " 0. 0. 0. 1. 0. 0. 0. 0. 0. 0. 0. 0. 0. 0. 0. 0. 0. 0. 0. 0. 0. 0. 0. 0.\n",
      " 0. 0. 0. 0. 0. 0. 0. 0. 0. 0. 0. 0. 0. 0. 0. 0. 0. 0. 0. 0. 0. 0. 0. 0.\n",
      " 0. 0. 0. 0. 0. 0. 0. 0. 0. 0. 0. 0. 0. 0. 0. 0. 0. 0. 0. 0. 0. 0. 0. 0.\n",
      " 0. 0. 0. 0. 0. 0. 0. 0. 0. 0. 0. 0. 0. 0. 0. 0. 0. 0. 0. 0. 0. 0. 0. 0.\n",
      " 0. 0. 0. 0. 0. 0. 0. 0. 0. 0. 0. 0. 0. 0. 0. 0. 0. 0. 0. 0. 0. 0. 1. 0.\n",
      " 0. 0. 0. 0. 0. 0. 0. 0. 0. 0. 0. 0. 0. 0. 0. 0. 0. 0. 0. 0. 0. 0. 0. 0.\n",
      " 0. 0. 0. 0. 0. 0. 0. 0. 0. 0. 0. 0. 0. 0. 0. 0. 0. 0. 0. 0. 0. 0. 0. 0.\n",
      " 0. 0. 0. 0. 0. 0. 0. 0. 0. 0. 0. 0. 0. 0. 0. 0. 0. 0. 0. 0. 0. 0. 0. 0.\n",
      " 0. 0. 0. 0. 0. 0. 0. 0. 0. 0. 0. 0. 0. 0. 0. 0. 0. 0. 0. 0. 0. 0. 0. 0.\n",
      " 0. 0. 0. 0. 0. 0. 0. 0. 0. 0. 0. 0. 0. 0. 0. 0. 0. 0. 0. 0. 0. 0. 0. 0.\n",
      " 0. 0. 0. 0. 0. 0. 0. 0. 0. 0. 0. 0. 0. 1. 0. 0. 0. 0. 0. 0. 0. 0. 0. 0.\n",
      " 0. 0. 0. 0. 0. 0. 0. 0. 0. 0. 0. 0. 0. 0. 0. 0.]\n",
      "1\n"
     ]
    }
   ],
   "source": [
    "from tensorflow.keras.preprocessing.text import Tokenizer\n",
    "import keras\n",
    "tokenizer = Tokenizer(num_words=1000)\n",
    "x_train = tokenizer.sequences_to_matrix(x_train, mode='binary')\n",
    "x_test = tokenizer.sequences_to_matrix(x_test, mode='binary')\n",
    "print(x_train[0])\n",
    "\n",
    "print(y_train[0])"
   ]
  },
  {
   "cell_type": "code",
   "execution_count": 52,
   "metadata": {},
   "outputs": [
    {
     "name": "stdout",
     "output_type": "stream",
     "text": [
      "[1. 0.]\n",
      "[0. 1.]\n",
      "(25000, 2)\n",
      "[1. 0.]\n",
      "[0. 1.]\n"
     ]
    }
   ],
   "source": [
    "print(y_test[0])\n",
    "print(y_test[1])\n",
    "num_classes = 2\n",
    "y_train = keras.utils.to_categorical(y_train, num_classes)\n",
    "y_test = keras.utils.to_categorical(y_test_, num_classes)\n",
    "print(y_train.shape)\n",
    "print(y_test[0])\n",
    "print(y_test[1])"
   ]
  },
  {
   "cell_type": "code",
   "execution_count": 53,
   "metadata": {},
   "outputs": [],
   "source": [
    "from tensorflow.keras.models import Sequential\n",
    "from tensorflow.keras.layers import Dense,Dropout\n",
    "from tensorflow.keras.callbacks import EarlyStopping\n",
    "\n",
    "\n",
    "model=Sequential([\n",
    "    Dense(100,activation=\"relu\",input_dim=1000),\n",
    "    Dropout(0.2),\n",
    "    Dense(70,activation=\"relu\"),\n",
    "    Dropout(0.2),\n",
    "    Dense(10,activation=\"relu\"),\n",
    "    Dense(2,activation=\"softmax\")\n",
    "]);\n",
    "\n",
    "model.compile(optimizer=\"adam\",loss=\"categorical_crossentropy\");"
   ]
  },
  {
   "cell_type": "code",
   "execution_count": 54,
   "metadata": {},
   "outputs": [
    {
     "name": "stdout",
     "output_type": "stream",
     "text": [
      "(25000, 1000)\n",
      "(25000, 2)\n",
      "Epoch 1/600\n",
      "500/500 [==============================] - 5s 7ms/step - loss: 0.4134 - val_loss: 0.3351\n",
      "Epoch 2/600\n",
      "500/500 [==============================] - 3s 7ms/step - loss: 0.3129 - val_loss: 0.3222\n",
      "Epoch 3/600\n",
      "500/500 [==============================] - 3s 7ms/step - loss: 0.2792 - val_loss: 0.3454\n",
      "Epoch 4/600\n",
      "500/500 [==============================] - 3s 6ms/step - loss: 0.2388 - val_loss: 0.3491\n",
      "Epoch 5/600\n",
      "500/500 [==============================] - 3s 6ms/step - loss: 0.1848 - val_loss: 0.4059\n",
      "Epoch 6/600\n",
      "500/500 [==============================] - 3s 7ms/step - loss: 0.1392 - val_loss: 0.4355\n",
      "Epoch 7/600\n",
      "500/500 [==============================] - 3s 6ms/step - loss: 0.1054 - val_loss: 0.4916\n",
      "Epoch 8/600\n",
      "500/500 [==============================] - 3s 7ms/step - loss: 0.0853 - val_loss: 0.5582\n",
      "Epoch 9/600\n",
      "500/500 [==============================] - 3s 7ms/step - loss: 0.0659 - val_loss: 0.6401\n",
      "Epoch 10/600\n",
      "500/500 [==============================] - 3s 6ms/step - loss: 0.0599 - val_loss: 0.6142\n",
      "Epoch 11/600\n",
      "500/500 [==============================] - 3s 7ms/step - loss: 0.0550 - val_loss: 0.6477\n",
      "Epoch 12/600\n",
      "500/500 [==============================] - 5s 9ms/step - loss: 0.0473 - val_loss: 0.7100\n",
      "Epoch 13/600\n",
      "500/500 [==============================] - 3s 6ms/step - loss: 0.0441 - val_loss: 0.7295\n",
      "Epoch 14/600\n",
      "500/500 [==============================] - 3s 7ms/step - loss: 0.0400 - val_loss: 0.8187\n",
      "Epoch 15/600\n",
      "500/500 [==============================] - 3s 7ms/step - loss: 0.0393 - val_loss: 0.7703\n",
      "Epoch 16/600\n",
      "500/500 [==============================] - 4s 8ms/step - loss: 0.0391 - val_loss: 0.7133\n",
      "Epoch 17/600\n",
      "500/500 [==============================] - 3s 7ms/step - loss: 0.0321 - val_loss: 0.8058\n",
      "Epoch 18/600\n",
      "500/500 [==============================] - 3s 7ms/step - loss: 0.0332 - val_loss: 0.7816\n",
      "Epoch 19/600\n",
      "500/500 [==============================] - 3s 6ms/step - loss: 0.0304 - val_loss: 0.8084\n",
      "Epoch 20/600\n",
      "500/500 [==============================] - 3s 7ms/step - loss: 0.0324 - val_loss: 0.7519\n",
      "Epoch 21/600\n",
      "500/500 [==============================] - 3s 7ms/step - loss: 0.0315 - val_loss: 0.7424\n",
      "Epoch 22/600\n",
      "500/500 [==============================] - 3s 6ms/step - loss: 0.0259 - val_loss: 0.8129\n",
      "Epoch 23/600\n",
      "500/500 [==============================] - 4s 7ms/step - loss: 0.0284 - val_loss: 0.7941\n",
      "Epoch 24/600\n",
      "500/500 [==============================] - 3s 7ms/step - loss: 0.0275 - val_loss: 0.7809\n",
      "Epoch 25/600\n",
      "500/500 [==============================] - 3s 6ms/step - loss: 0.0217 - val_loss: 0.8338\n",
      "Epoch 26/600\n",
      "500/500 [==============================] - 3s 7ms/step - loss: 0.0251 - val_loss: 0.8558\n",
      "Epoch 27/600\n",
      "500/500 [==============================] - 3s 6ms/step - loss: 0.0262 - val_loss: 0.8719\n",
      "Epoch 28/600\n",
      "500/500 [==============================] - 3s 7ms/step - loss: 0.0242 - val_loss: 0.8046\n",
      "Epoch 29/600\n",
      "500/500 [==============================] - 3s 7ms/step - loss: 0.0231 - val_loss: 0.9027\n",
      "Epoch 30/600\n",
      "500/500 [==============================] - 3s 6ms/step - loss: 0.0229 - val_loss: 0.8698\n",
      "Epoch 31/600\n",
      "500/500 [==============================] - 3s 7ms/step - loss: 0.0218 - val_loss: 0.8692\n",
      "Epoch 32/600\n",
      "500/500 [==============================] - 3s 7ms/step - loss: 0.0231 - val_loss: 0.8850\n",
      "Epoch 32: early stopping\n"
     ]
    }
   ],
   "source": [
    "print(x_train.shape)\n",
    "print(y_train.shape)\n",
    "\n",
    "Early_callback=EarlyStopping(patience=30,monitor=\"val_loss\",mode=\"min\",verbose=1);\n",
    "model.fit(x=x_train,y=y_train,epochs=600,validation_data=(x_test,y_test),batch_size=50,callbacks=[Early_callback]);"
   ]
  },
  {
   "cell_type": "code",
   "execution_count": 55,
   "metadata": {},
   "outputs": [
    {
     "data": {
      "text/plain": [
       "<AxesSubplot:>"
      ]
     },
     "execution_count": 55,
     "metadata": {},
     "output_type": "execute_result"
    },
    {
     "data": {
      "image/png": "[encoded data removed]",
      "text/plain": [
       "<Figure size 432x288 with 1 Axes>"
      ]
     },
     "metadata": {
      "needs_background": "light"
     },
     "output_type": "display_data"
    }
   ],
   "source": [
    "__los__=pd.DataFrame(model.history.history);\n",
    "__los__.plot()"
   ]
  },
  {
   "cell_type": "code",
   "execution_count": 56,
   "metadata": {},
   "outputs": [
    {
     "name": "stdout",
     "output_type": "stream",
     "text": [
      "782/782 [==============================] - 2s 3ms/step\n"
     ]
    }
   ],
   "source": [
    "from sklearn.metrics import classification_report,confusion_matrix\n",
    "__pred__=model.predict(x_test);\n",
    "X=pd.DataFrame(__pred__,columns=[\"0\",\"1\"])\n",
    "__binary_pred__=(X[\"1\"]>X[\"0\"]).astype(\"int32\");\n",
    "pd.DataFrame(__binary_pred__);\n"
   ]
  },
  {
   "cell_type": "code",
   "execution_count": 57,
   "metadata": {},
   "outputs": [
    {
     "name": "stdout",
     "output_type": "stream",
     "text": [
      "0    12500\n",
      "1    12500\n",
      "dtype: int64\n",
      "1    13130\n",
      "0    11870\n",
      "dtype: int64\n"
     ]
    }
   ],
   "source": [
    "__binary_pred__\n",
    "\n",
    "print(pd.DataFrame(y_test_).value_counts());\n",
    "print(__binary_pred__.value_counts());\n"
   ]
  },
  {
   "cell_type": "code",
   "execution_count": 58,
   "metadata": {},
   "outputs": [
    {
     "name": "stdout",
     "output_type": "stream",
     "text": [
      "              precision    recall  f1-score   support\n",
      "\n",
      "           0       0.86      0.82      0.84     12500\n",
      "           1       0.82      0.87      0.84     12500\n",
      "\n",
      "    accuracy                           0.84     25000\n",
      "   macro avg       0.84      0.84      0.84     25000\n",
      "weighted avg       0.84      0.84      0.84     25000\n",
      "\n"
     ]
    },
    {
     "data": {
      "text/plain": [
       "<AxesSubplot:>"
      ]
     },
     "execution_count": 58,
     "metadata": {},
     "output_type": "execute_result"
    },
    {
     "data": {
      "image/png": "[encoded data removed]",
      "text/plain": [
       "<Figure size 432x288 with 2 Axes>"
      ]
     },
     "metadata": {
      "needs_background": "light"
     },
     "output_type": "display_data"
    }
   ],
   "source": [
    "# Classification Report and Confusion Matrix\n",
    "print(classification_report(y_test_,__binary_pred__))\n",
    "sns.heatmap(confusion_matrix(y_test_,__binary_pred__),annot=True)"
   ]
  }
 ],
 "metadata": {
  "kernelspec": {
   "display_name": "Python 3.9.12 ('base')",
   "language": "python",
   "name": "python3"
  },
  "language_info": {
   "codemirror_mode": {
    "name": "ipython",
    "version": 3
   },
   "file_extension": ".py",
   "mimetype": "text/x-python",
   "name": "python",
   "nbconvert_exporter": "python",
   "pygments_lexer": "ipython3",
   "version": "3.9.12"
  },
  "orig_nbformat": 4,
  "vscode": {
   "interpreter": {
    "hash": "972634ce379db47b59801b90472a9331a580bc1b16dfd632b751099b21f1c24c"
   }
  }
 },
 "nbformat": 4,
 "nbformat_minor": 2
}
